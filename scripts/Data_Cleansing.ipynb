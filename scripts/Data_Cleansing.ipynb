{
 "cells": [
  {
   "cell_type": "code",
   "execution_count": 152,
   "metadata": {},
   "outputs": [],
   "source": [
    "import pandas as pd\n",
    "import csv\n",
    "import glob\n",
    "import os\n",
    "import numpy as np"
   ]
  },
  {
   "cell_type": "code",
   "execution_count": 456,
   "metadata": {},
   "outputs": [],
   "source": [
    "# Lets create the dataframe for tesco.csv file\n",
    "\n",
    "files = []\n",
    "\n",
    "inputPath = \"/Users/ravikiranmandha/PycharmProjects/Graze_Data_Engineer/graze-data-engineer-test/files/\"\n",
    "\n",
    "for file in glob.glob(inputPath + '*csv'):\n",
    "    \n",
    "    files.append(file)"
   ]
  },
  {
   "cell_type": "code",
   "execution_count": 457,
   "metadata": {},
   "outputs": [],
   "source": [
    "# Lets load the waitrose.csv file into the tesco dataframe\n",
    "waitrose_df = pd.read_csv(files[0])"
   ]
  },
  {
   "cell_type": "code",
   "execution_count": 458,
   "metadata": {
    "scrolled": true
   },
   "outputs": [
    {
     "data": {
      "text/html": [
       "<div>\n",
       "<style scoped>\n",
       "    .dataframe tbody tr th:only-of-type {\n",
       "        vertical-align: middle;\n",
       "    }\n",
       "\n",
       "    .dataframe tbody tr th {\n",
       "        vertical-align: top;\n",
       "    }\n",
       "\n",
       "    .dataframe thead th {\n",
       "        text-align: right;\n",
       "    }\n",
       "</style>\n",
       "<table border=\"1\" class=\"dataframe\">\n",
       "  <thead>\n",
       "    <tr style=\"text-align: right;\">\n",
       "      <th></th>\n",
       "      <th>retailer</th>\n",
       "      <th>store</th>\n",
       "      <th>product_id</th>\n",
       "      <th>product_name</th>\n",
       "      <th>week_commencing</th>\n",
       "      <th>sales_units</th>\n",
       "      <th>sales_value</th>\n",
       "    </tr>\n",
       "  </thead>\n",
       "  <tbody>\n",
       "    <tr>\n",
       "      <th>0</th>\n",
       "      <td>Waitrose</td>\n",
       "      <td>Manchester</td>\n",
       "      <td>1</td>\n",
       "      <td>Graze BBQ Crunch</td>\n",
       "      <td>03/05/2019</td>\n",
       "      <td>133</td>\n",
       "      <td>£159.60</td>\n",
       "    </tr>\n",
       "    <tr>\n",
       "      <th>1</th>\n",
       "      <td>Waitrose</td>\n",
       "      <td>Manchester</td>\n",
       "      <td>1</td>\n",
       "      <td>Graze BBQ Crunch</td>\n",
       "      <td>10/05/2019</td>\n",
       "      <td>193</td>\n",
       "      <td>£231.60</td>\n",
       "    </tr>\n",
       "    <tr>\n",
       "      <th>2</th>\n",
       "      <td>Waitrose</td>\n",
       "      <td>Manchester</td>\n",
       "      <td>1</td>\n",
       "      <td>Graze BBQ Crunch</td>\n",
       "      <td>17/05/2019</td>\n",
       "      <td>185</td>\n",
       "      <td>£222</td>\n",
       "    </tr>\n",
       "    <tr>\n",
       "      <th>3</th>\n",
       "      <td>Waitrose</td>\n",
       "      <td>Manchester</td>\n",
       "      <td>2</td>\n",
       "      <td>Graze Veggie Protein Power</td>\n",
       "      <td>03/05/2019</td>\n",
       "      <td>31</td>\n",
       "      <td>£37.20</td>\n",
       "    </tr>\n",
       "    <tr>\n",
       "      <th>4</th>\n",
       "      <td>Waitrose</td>\n",
       "      <td>Manchester</td>\n",
       "      <td>2</td>\n",
       "      <td>Graze Veggie Protein Power</td>\n",
       "      <td>10/05/2019</td>\n",
       "      <td>124</td>\n",
       "      <td>£148.80</td>\n",
       "    </tr>\n",
       "  </tbody>\n",
       "</table>\n",
       "</div>"
      ],
      "text/plain": [
       "   retailer       store  product_id                product_name  \\\n",
       "0  Waitrose  Manchester           1            Graze BBQ Crunch   \n",
       "1  Waitrose  Manchester           1            Graze BBQ Crunch   \n",
       "2  Waitrose  Manchester           1            Graze BBQ Crunch   \n",
       "3  Waitrose  Manchester           2  Graze Veggie Protein Power   \n",
       "4  Waitrose  Manchester           2  Graze Veggie Protein Power   \n",
       "\n",
       "  week_commencing  sales_units sales_value  \n",
       "0      03/05/2019          133     £159.60  \n",
       "1      10/05/2019          193     £231.60  \n",
       "2      17/05/2019          185        £222  \n",
       "3      03/05/2019           31      £37.20  \n",
       "4      10/05/2019          124     £148.80  "
      ]
     },
     "execution_count": 458,
     "metadata": {},
     "output_type": "execute_result"
    }
   ],
   "source": [
    "#We can now check the head of the waitrose_df\n",
    "waitrose_df.head()"
   ]
  },
  {
   "cell_type": "code",
   "execution_count": 459,
   "metadata": {},
   "outputs": [
    {
     "data": {
      "text/plain": [
       "retailer           object\n",
       "store              object\n",
       "product_id          int64\n",
       "product_name       object\n",
       "week_commencing    object\n",
       "sales_units         int64\n",
       "sales_value        object\n",
       "dtype: object"
      ]
     },
     "execution_count": 459,
     "metadata": {},
     "output_type": "execute_result"
    }
   ],
   "source": [
    "# Let validate the data types for each of the columns in the dataframe\n",
    "waitrose_df.dtypes"
   ]
  },
  {
   "cell_type": "code",
   "execution_count": 460,
   "metadata": {
    "scrolled": true
   },
   "outputs": [
    {
     "name": "stdout",
     "output_type": "stream",
     "text": [
      "<class 'pandas.core.frame.DataFrame'>\n",
      "RangeIndex: 120 entries, 0 to 119\n",
      "Data columns (total 7 columns):\n",
      "retailer           120 non-null object\n",
      "store              120 non-null object\n",
      "product_id         120 non-null int64\n",
      "product_name       120 non-null object\n",
      "week_commencing    120 non-null object\n",
      "sales_units        120 non-null int64\n",
      "sales_value        120 non-null object\n",
      "dtypes: int64(2), object(5)\n",
      "memory usage: 6.7+ KB\n"
     ]
    }
   ],
   "source": [
    "# info provides more information about our dataframe\n",
    "waitrose_df.info()"
   ]
  },
  {
   "cell_type": "code",
   "execution_count": 461,
   "metadata": {},
   "outputs": [],
   "source": [
    "# We note that the \"week_commencing\" column should be datetime64 instead of object datatype. Lets convert it first.\n",
    "\n",
    "waitrose_df['week_commencing'] = waitrose_df['week_commencing'].astype('datetime64[ns]')"
   ]
  },
  {
   "cell_type": "code",
   "execution_count": 462,
   "metadata": {},
   "outputs": [
    {
     "name": "stdout",
     "output_type": "stream",
     "text": [
      "<class 'pandas.core.frame.DataFrame'>\n",
      "RangeIndex: 120 entries, 0 to 119\n",
      "Data columns (total 7 columns):\n",
      "retailer           120 non-null object\n",
      "store              120 non-null object\n",
      "product_id         120 non-null int64\n",
      "product_name       120 non-null object\n",
      "week_commencing    120 non-null datetime64[ns]\n",
      "sales_units        120 non-null int64\n",
      "sales_value        120 non-null object\n",
      "dtypes: datetime64[ns](1), int64(2), object(4)\n",
      "memory usage: 6.7+ KB\n"
     ]
    }
   ],
   "source": [
    "# We can now verify if the data type has been changed for the week_commencing column\n",
    "waitrose_df.info()"
   ]
  },
  {
   "cell_type": "code",
   "execution_count": 463,
   "metadata": {},
   "outputs": [
    {
     "data": {
      "text/plain": [
       "0    £159.60\n",
       "1    £231.60\n",
       "2       £222\n",
       "3     £37.20\n",
       "4    £148.80\n",
       "Name: sales_value, dtype: object"
      ]
     },
     "execution_count": 463,
     "metadata": {},
     "output_type": "execute_result"
    }
   ],
   "source": [
    "# Note that the sales_value column is stored as non-null object this would prevent us from performing any calculations.\n",
    "waitrose_df['sales_value'].head()"
   ]
  },
  {
   "cell_type": "code",
   "execution_count": 464,
   "metadata": {
    "scrolled": true
   },
   "outputs": [
    {
     "ename": "ValueError",
     "evalue": "could not convert string to float: '£21.60'",
     "output_type": "error",
     "traceback": [
      "\u001b[0;31m---------------------------------------------------------------------------\u001b[0m",
      "\u001b[0;31mValueError\u001b[0m                                Traceback (most recent call last)",
      "\u001b[0;32m<ipython-input-464-9a77e7f7e492>\u001b[0m in \u001b[0;36m<module>\u001b[0;34m()\u001b[0m\n\u001b[1;32m      1\u001b[0m \u001b[0;31m# Lets try to convert into a float value using astype function.\u001b[0m\u001b[0;34m\u001b[0m\u001b[0;34m\u001b[0m\u001b[0;34m\u001b[0m\u001b[0m\n\u001b[0;32m----> 2\u001b[0;31m \u001b[0mwaitrose_df\u001b[0m\u001b[0;34m[\u001b[0m\u001b[0;34m'sales_value'\u001b[0m\u001b[0;34m]\u001b[0m \u001b[0;34m=\u001b[0m \u001b[0mwaitrose_df\u001b[0m\u001b[0;34m[\u001b[0m\u001b[0;34m'sales_value'\u001b[0m\u001b[0;34m]\u001b[0m\u001b[0;34m.\u001b[0m\u001b[0mastype\u001b[0m\u001b[0;34m(\u001b[0m\u001b[0mfloat\u001b[0m\u001b[0;34m)\u001b[0m\u001b[0;34m\u001b[0m\u001b[0;34m\u001b[0m\u001b[0m\n\u001b[0m",
      "\u001b[0;32m~/anaconda3/lib/python3.6/site-packages/pandas/core/generic.py\u001b[0m in \u001b[0;36mastype\u001b[0;34m(self, dtype, copy, errors, **kwargs)\u001b[0m\n\u001b[1;32m   5880\u001b[0m             \u001b[0;31m# else, only a single dtype is given\u001b[0m\u001b[0;34m\u001b[0m\u001b[0;34m\u001b[0m\u001b[0;34m\u001b[0m\u001b[0m\n\u001b[1;32m   5881\u001b[0m             new_data = self._data.astype(\n\u001b[0;32m-> 5882\u001b[0;31m                 \u001b[0mdtype\u001b[0m\u001b[0;34m=\u001b[0m\u001b[0mdtype\u001b[0m\u001b[0;34m,\u001b[0m \u001b[0mcopy\u001b[0m\u001b[0;34m=\u001b[0m\u001b[0mcopy\u001b[0m\u001b[0;34m,\u001b[0m \u001b[0merrors\u001b[0m\u001b[0;34m=\u001b[0m\u001b[0merrors\u001b[0m\u001b[0;34m,\u001b[0m \u001b[0;34m**\u001b[0m\u001b[0mkwargs\u001b[0m\u001b[0;34m\u001b[0m\u001b[0;34m\u001b[0m\u001b[0m\n\u001b[0m\u001b[1;32m   5883\u001b[0m             )\n\u001b[1;32m   5884\u001b[0m             \u001b[0;32mreturn\u001b[0m \u001b[0mself\u001b[0m\u001b[0;34m.\u001b[0m\u001b[0m_constructor\u001b[0m\u001b[0;34m(\u001b[0m\u001b[0mnew_data\u001b[0m\u001b[0;34m)\u001b[0m\u001b[0;34m.\u001b[0m\u001b[0m__finalize__\u001b[0m\u001b[0;34m(\u001b[0m\u001b[0mself\u001b[0m\u001b[0;34m)\u001b[0m\u001b[0;34m\u001b[0m\u001b[0;34m\u001b[0m\u001b[0m\n",
      "\u001b[0;32m~/anaconda3/lib/python3.6/site-packages/pandas/core/internals/managers.py\u001b[0m in \u001b[0;36mastype\u001b[0;34m(self, dtype, **kwargs)\u001b[0m\n\u001b[1;32m    579\u001b[0m \u001b[0;34m\u001b[0m\u001b[0m\n\u001b[1;32m    580\u001b[0m     \u001b[0;32mdef\u001b[0m \u001b[0mastype\u001b[0m\u001b[0;34m(\u001b[0m\u001b[0mself\u001b[0m\u001b[0;34m,\u001b[0m \u001b[0mdtype\u001b[0m\u001b[0;34m,\u001b[0m \u001b[0;34m**\u001b[0m\u001b[0mkwargs\u001b[0m\u001b[0;34m)\u001b[0m\u001b[0;34m:\u001b[0m\u001b[0;34m\u001b[0m\u001b[0;34m\u001b[0m\u001b[0m\n\u001b[0;32m--> 581\u001b[0;31m         \u001b[0;32mreturn\u001b[0m \u001b[0mself\u001b[0m\u001b[0;34m.\u001b[0m\u001b[0mapply\u001b[0m\u001b[0;34m(\u001b[0m\u001b[0;34m\"astype\"\u001b[0m\u001b[0;34m,\u001b[0m \u001b[0mdtype\u001b[0m\u001b[0;34m=\u001b[0m\u001b[0mdtype\u001b[0m\u001b[0;34m,\u001b[0m \u001b[0;34m**\u001b[0m\u001b[0mkwargs\u001b[0m\u001b[0;34m)\u001b[0m\u001b[0;34m\u001b[0m\u001b[0;34m\u001b[0m\u001b[0m\n\u001b[0m\u001b[1;32m    582\u001b[0m \u001b[0;34m\u001b[0m\u001b[0m\n\u001b[1;32m    583\u001b[0m     \u001b[0;32mdef\u001b[0m \u001b[0mconvert\u001b[0m\u001b[0;34m(\u001b[0m\u001b[0mself\u001b[0m\u001b[0;34m,\u001b[0m \u001b[0;34m**\u001b[0m\u001b[0mkwargs\u001b[0m\u001b[0;34m)\u001b[0m\u001b[0;34m:\u001b[0m\u001b[0;34m\u001b[0m\u001b[0;34m\u001b[0m\u001b[0m\n",
      "\u001b[0;32m~/anaconda3/lib/python3.6/site-packages/pandas/core/internals/managers.py\u001b[0m in \u001b[0;36mapply\u001b[0;34m(self, f, axes, filter, do_integrity_check, consolidate, **kwargs)\u001b[0m\n\u001b[1;32m    436\u001b[0m                     \u001b[0mkwargs\u001b[0m\u001b[0;34m[\u001b[0m\u001b[0mk\u001b[0m\u001b[0;34m]\u001b[0m \u001b[0;34m=\u001b[0m \u001b[0mobj\u001b[0m\u001b[0;34m.\u001b[0m\u001b[0mreindex\u001b[0m\u001b[0;34m(\u001b[0m\u001b[0mb_items\u001b[0m\u001b[0;34m,\u001b[0m \u001b[0maxis\u001b[0m\u001b[0;34m=\u001b[0m\u001b[0maxis\u001b[0m\u001b[0;34m,\u001b[0m \u001b[0mcopy\u001b[0m\u001b[0;34m=\u001b[0m\u001b[0malign_copy\u001b[0m\u001b[0;34m)\u001b[0m\u001b[0;34m\u001b[0m\u001b[0;34m\u001b[0m\u001b[0m\n\u001b[1;32m    437\u001b[0m \u001b[0;34m\u001b[0m\u001b[0m\n\u001b[0;32m--> 438\u001b[0;31m             \u001b[0mapplied\u001b[0m \u001b[0;34m=\u001b[0m \u001b[0mgetattr\u001b[0m\u001b[0;34m(\u001b[0m\u001b[0mb\u001b[0m\u001b[0;34m,\u001b[0m \u001b[0mf\u001b[0m\u001b[0;34m)\u001b[0m\u001b[0;34m(\u001b[0m\u001b[0;34m**\u001b[0m\u001b[0mkwargs\u001b[0m\u001b[0;34m)\u001b[0m\u001b[0;34m\u001b[0m\u001b[0;34m\u001b[0m\u001b[0m\n\u001b[0m\u001b[1;32m    439\u001b[0m             \u001b[0mresult_blocks\u001b[0m \u001b[0;34m=\u001b[0m \u001b[0m_extend_blocks\u001b[0m\u001b[0;34m(\u001b[0m\u001b[0mapplied\u001b[0m\u001b[0;34m,\u001b[0m \u001b[0mresult_blocks\u001b[0m\u001b[0;34m)\u001b[0m\u001b[0;34m\u001b[0m\u001b[0;34m\u001b[0m\u001b[0m\n\u001b[1;32m    440\u001b[0m \u001b[0;34m\u001b[0m\u001b[0m\n",
      "\u001b[0;32m~/anaconda3/lib/python3.6/site-packages/pandas/core/internals/blocks.py\u001b[0m in \u001b[0;36mastype\u001b[0;34m(self, dtype, copy, errors, values, **kwargs)\u001b[0m\n\u001b[1;32m    557\u001b[0m \u001b[0;34m\u001b[0m\u001b[0m\n\u001b[1;32m    558\u001b[0m     \u001b[0;32mdef\u001b[0m \u001b[0mastype\u001b[0m\u001b[0;34m(\u001b[0m\u001b[0mself\u001b[0m\u001b[0;34m,\u001b[0m \u001b[0mdtype\u001b[0m\u001b[0;34m,\u001b[0m \u001b[0mcopy\u001b[0m\u001b[0;34m=\u001b[0m\u001b[0;32mFalse\u001b[0m\u001b[0;34m,\u001b[0m \u001b[0merrors\u001b[0m\u001b[0;34m=\u001b[0m\u001b[0;34m\"raise\"\u001b[0m\u001b[0;34m,\u001b[0m \u001b[0mvalues\u001b[0m\u001b[0;34m=\u001b[0m\u001b[0;32mNone\u001b[0m\u001b[0;34m,\u001b[0m \u001b[0;34m**\u001b[0m\u001b[0mkwargs\u001b[0m\u001b[0;34m)\u001b[0m\u001b[0;34m:\u001b[0m\u001b[0;34m\u001b[0m\u001b[0;34m\u001b[0m\u001b[0m\n\u001b[0;32m--> 559\u001b[0;31m         \u001b[0;32mreturn\u001b[0m \u001b[0mself\u001b[0m\u001b[0;34m.\u001b[0m\u001b[0m_astype\u001b[0m\u001b[0;34m(\u001b[0m\u001b[0mdtype\u001b[0m\u001b[0;34m,\u001b[0m \u001b[0mcopy\u001b[0m\u001b[0;34m=\u001b[0m\u001b[0mcopy\u001b[0m\u001b[0;34m,\u001b[0m \u001b[0merrors\u001b[0m\u001b[0;34m=\u001b[0m\u001b[0merrors\u001b[0m\u001b[0;34m,\u001b[0m \u001b[0mvalues\u001b[0m\u001b[0;34m=\u001b[0m\u001b[0mvalues\u001b[0m\u001b[0;34m,\u001b[0m \u001b[0;34m**\u001b[0m\u001b[0mkwargs\u001b[0m\u001b[0;34m)\u001b[0m\u001b[0;34m\u001b[0m\u001b[0;34m\u001b[0m\u001b[0m\n\u001b[0m\u001b[1;32m    560\u001b[0m \u001b[0;34m\u001b[0m\u001b[0m\n\u001b[1;32m    561\u001b[0m     \u001b[0;32mdef\u001b[0m \u001b[0m_astype\u001b[0m\u001b[0;34m(\u001b[0m\u001b[0mself\u001b[0m\u001b[0;34m,\u001b[0m \u001b[0mdtype\u001b[0m\u001b[0;34m,\u001b[0m \u001b[0mcopy\u001b[0m\u001b[0;34m=\u001b[0m\u001b[0;32mFalse\u001b[0m\u001b[0;34m,\u001b[0m \u001b[0merrors\u001b[0m\u001b[0;34m=\u001b[0m\u001b[0;34m\"raise\"\u001b[0m\u001b[0;34m,\u001b[0m \u001b[0mvalues\u001b[0m\u001b[0;34m=\u001b[0m\u001b[0;32mNone\u001b[0m\u001b[0;34m,\u001b[0m \u001b[0;34m**\u001b[0m\u001b[0mkwargs\u001b[0m\u001b[0;34m)\u001b[0m\u001b[0;34m:\u001b[0m\u001b[0;34m\u001b[0m\u001b[0;34m\u001b[0m\u001b[0m\n",
      "\u001b[0;32m~/anaconda3/lib/python3.6/site-packages/pandas/core/internals/blocks.py\u001b[0m in \u001b[0;36m_astype\u001b[0;34m(self, dtype, copy, errors, values, **kwargs)\u001b[0m\n\u001b[1;32m    641\u001b[0m                     \u001b[0;31m# _astype_nansafe works fine with 1-d only\u001b[0m\u001b[0;34m\u001b[0m\u001b[0;34m\u001b[0m\u001b[0;34m\u001b[0m\u001b[0m\n\u001b[1;32m    642\u001b[0m                     \u001b[0mvals1d\u001b[0m \u001b[0;34m=\u001b[0m \u001b[0mvalues\u001b[0m\u001b[0;34m.\u001b[0m\u001b[0mravel\u001b[0m\u001b[0;34m(\u001b[0m\u001b[0;34m)\u001b[0m\u001b[0;34m\u001b[0m\u001b[0;34m\u001b[0m\u001b[0m\n\u001b[0;32m--> 643\u001b[0;31m                     \u001b[0mvalues\u001b[0m \u001b[0;34m=\u001b[0m \u001b[0mastype_nansafe\u001b[0m\u001b[0;34m(\u001b[0m\u001b[0mvals1d\u001b[0m\u001b[0;34m,\u001b[0m \u001b[0mdtype\u001b[0m\u001b[0;34m,\u001b[0m \u001b[0mcopy\u001b[0m\u001b[0;34m=\u001b[0m\u001b[0;32mTrue\u001b[0m\u001b[0;34m,\u001b[0m \u001b[0;34m**\u001b[0m\u001b[0mkwargs\u001b[0m\u001b[0;34m)\u001b[0m\u001b[0;34m\u001b[0m\u001b[0;34m\u001b[0m\u001b[0m\n\u001b[0m\u001b[1;32m    644\u001b[0m \u001b[0;34m\u001b[0m\u001b[0m\n\u001b[1;32m    645\u001b[0m                 \u001b[0;31m# TODO(extension)\u001b[0m\u001b[0;34m\u001b[0m\u001b[0;34m\u001b[0m\u001b[0;34m\u001b[0m\u001b[0m\n",
      "\u001b[0;32m~/anaconda3/lib/python3.6/site-packages/pandas/core/dtypes/cast.py\u001b[0m in \u001b[0;36mastype_nansafe\u001b[0;34m(arr, dtype, copy, skipna)\u001b[0m\n\u001b[1;32m    727\u001b[0m     \u001b[0;32mif\u001b[0m \u001b[0mcopy\u001b[0m \u001b[0;32mor\u001b[0m \u001b[0mis_object_dtype\u001b[0m\u001b[0;34m(\u001b[0m\u001b[0marr\u001b[0m\u001b[0;34m)\u001b[0m \u001b[0;32mor\u001b[0m \u001b[0mis_object_dtype\u001b[0m\u001b[0;34m(\u001b[0m\u001b[0mdtype\u001b[0m\u001b[0;34m)\u001b[0m\u001b[0;34m:\u001b[0m\u001b[0;34m\u001b[0m\u001b[0;34m\u001b[0m\u001b[0m\n\u001b[1;32m    728\u001b[0m         \u001b[0;31m# Explicit copy, or required since NumPy can't view from / to object.\u001b[0m\u001b[0;34m\u001b[0m\u001b[0;34m\u001b[0m\u001b[0;34m\u001b[0m\u001b[0m\n\u001b[0;32m--> 729\u001b[0;31m         \u001b[0;32mreturn\u001b[0m \u001b[0marr\u001b[0m\u001b[0;34m.\u001b[0m\u001b[0mastype\u001b[0m\u001b[0;34m(\u001b[0m\u001b[0mdtype\u001b[0m\u001b[0;34m,\u001b[0m \u001b[0mcopy\u001b[0m\u001b[0;34m=\u001b[0m\u001b[0;32mTrue\u001b[0m\u001b[0;34m)\u001b[0m\u001b[0;34m\u001b[0m\u001b[0;34m\u001b[0m\u001b[0m\n\u001b[0m\u001b[1;32m    730\u001b[0m \u001b[0;34m\u001b[0m\u001b[0m\n\u001b[1;32m    731\u001b[0m     \u001b[0;32mreturn\u001b[0m \u001b[0marr\u001b[0m\u001b[0;34m.\u001b[0m\u001b[0mview\u001b[0m\u001b[0;34m(\u001b[0m\u001b[0mdtype\u001b[0m\u001b[0;34m)\u001b[0m\u001b[0;34m\u001b[0m\u001b[0;34m\u001b[0m\u001b[0m\n",
      "\u001b[0;31mValueError\u001b[0m: could not convert string to float: '£21.60'"
     ]
    }
   ],
   "source": [
    "# Lets try to convert into a float value using astype function.\n",
    "waitrose_df['sales_value'] = waitrose_df['sales_value'].astype(float)"
   ]
  },
  {
   "cell_type": "code",
   "execution_count": 465,
   "metadata": {},
   "outputs": [
    {
     "data": {
      "text/plain": [
       "231.6"
      ]
     },
     "execution_count": 465,
     "metadata": {},
     "output_type": "execute_result"
    }
   ],
   "source": [
    "# As the astype function is failing to convert the datatype. We might have to write a custom function to clean it up.\n",
    "\n",
    "def convert_currency(val):\n",
    "    \"\"\"\n",
    "    Convert the string number value to a float\n",
    "     - Remove £ (Pound symbol)\n",
    "     - Convert to float type\n",
    "    \"\"\"\n",
    "    new_val = val.replace('£', '')\n",
    "    return float(new_val)\n",
    "\n",
    "# Let's validate if our custom function is working as expected\n",
    "convert_currency('£231.60')"
   ]
  },
  {
   "cell_type": "code",
   "execution_count": 466,
   "metadata": {
    "scrolled": true
   },
   "outputs": [
    {
     "data": {
      "text/plain": [
       "0      159.6\n",
       "1      231.6\n",
       "2      222.0\n",
       "3       37.2\n",
       "4      148.8\n",
       "       ...  \n",
       "115     52.8\n",
       "116     10.8\n",
       "117     26.4\n",
       "118     58.8\n",
       "119     21.6\n",
       "Name: sales_value, Length: 120, dtype: float64"
      ]
     },
     "execution_count": 466,
     "metadata": {},
     "output_type": "execute_result"
    }
   ],
   "source": [
    "# We can use apply function to make changes to the entire column\n",
    "waitrose_df['sales_value'].apply(convert_currency)"
   ]
  },
  {
   "cell_type": "code",
   "execution_count": 526,
   "metadata": {
    "scrolled": true
   },
   "outputs": [],
   "source": [
    "# Let's do all of these steps at once.\n",
    "parse_dates = ['Week_Commencing']\n",
    "column_list = [\"Retailer\", \"Store\", \"Product_Id\", \"Product_Name\", \"Week_Commencing\", \"Sales_Units\", \"Sales_Value\"]\n",
    "waitrose_df = pd.read_csv(files[0], skiprows=1,\n",
    "                    names=column_list,\n",
    "                   parse_dates=parse_dates,\n",
    "                   converters={'Sales_Value': convert_currency})"
   ]
  },
  {
   "cell_type": "code",
   "execution_count": 527,
   "metadata": {
    "scrolled": false
   },
   "outputs": [
    {
     "name": "stdout",
     "output_type": "stream",
     "text": [
      "<class 'pandas.core.frame.DataFrame'>\n",
      "RangeIndex: 120 entries, 0 to 119\n",
      "Data columns (total 7 columns):\n",
      "Retailer           120 non-null object\n",
      "Store              120 non-null object\n",
      "Product_Id         120 non-null int64\n",
      "Product_Name       120 non-null object\n",
      "Week_Commencing    120 non-null datetime64[ns]\n",
      "Sales_Units        120 non-null int64\n",
      "Sales_Value        120 non-null float64\n",
      "dtypes: datetime64[ns](1), float64(1), int64(2), object(3)\n",
      "memory usage: 6.7+ KB\n"
     ]
    }
   ],
   "source": [
    "waitrose_df.info()"
   ]
  },
  {
   "cell_type": "code",
   "execution_count": 528,
   "metadata": {},
   "outputs": [
    {
     "data": {
      "text/html": [
       "<div>\n",
       "<style scoped>\n",
       "    .dataframe tbody tr th:only-of-type {\n",
       "        vertical-align: middle;\n",
       "    }\n",
       "\n",
       "    .dataframe tbody tr th {\n",
       "        vertical-align: top;\n",
       "    }\n",
       "\n",
       "    .dataframe thead th {\n",
       "        text-align: right;\n",
       "    }\n",
       "</style>\n",
       "<table border=\"1\" class=\"dataframe\">\n",
       "  <thead>\n",
       "    <tr style=\"text-align: right;\">\n",
       "      <th></th>\n",
       "      <th>Retailer</th>\n",
       "      <th>Store</th>\n",
       "      <th>Product_Id</th>\n",
       "      <th>Product_Name</th>\n",
       "      <th>Week_Commencing</th>\n",
       "      <th>Sales_Units</th>\n",
       "      <th>Sales_Value</th>\n",
       "    </tr>\n",
       "  </thead>\n",
       "  <tbody>\n",
       "    <tr>\n",
       "      <th>0</th>\n",
       "      <td>Waitrose</td>\n",
       "      <td>Manchester</td>\n",
       "      <td>1</td>\n",
       "      <td>Graze BBQ Crunch</td>\n",
       "      <td>2019-03-05</td>\n",
       "      <td>133</td>\n",
       "      <td>159.6</td>\n",
       "    </tr>\n",
       "    <tr>\n",
       "      <th>1</th>\n",
       "      <td>Waitrose</td>\n",
       "      <td>Manchester</td>\n",
       "      <td>1</td>\n",
       "      <td>Graze BBQ Crunch</td>\n",
       "      <td>2019-10-05</td>\n",
       "      <td>193</td>\n",
       "      <td>231.6</td>\n",
       "    </tr>\n",
       "    <tr>\n",
       "      <th>2</th>\n",
       "      <td>Waitrose</td>\n",
       "      <td>Manchester</td>\n",
       "      <td>1</td>\n",
       "      <td>Graze BBQ Crunch</td>\n",
       "      <td>2019-05-17</td>\n",
       "      <td>185</td>\n",
       "      <td>222.0</td>\n",
       "    </tr>\n",
       "    <tr>\n",
       "      <th>3</th>\n",
       "      <td>Waitrose</td>\n",
       "      <td>Manchester</td>\n",
       "      <td>2</td>\n",
       "      <td>Graze Veggie Protein Power</td>\n",
       "      <td>2019-03-05</td>\n",
       "      <td>31</td>\n",
       "      <td>37.2</td>\n",
       "    </tr>\n",
       "    <tr>\n",
       "      <th>4</th>\n",
       "      <td>Waitrose</td>\n",
       "      <td>Manchester</td>\n",
       "      <td>2</td>\n",
       "      <td>Graze Veggie Protein Power</td>\n",
       "      <td>2019-10-05</td>\n",
       "      <td>124</td>\n",
       "      <td>148.8</td>\n",
       "    </tr>\n",
       "  </tbody>\n",
       "</table>\n",
       "</div>"
      ],
      "text/plain": [
       "   Retailer       Store  Product_Id                Product_Name  \\\n",
       "0  Waitrose  Manchester           1            Graze BBQ Crunch   \n",
       "1  Waitrose  Manchester           1            Graze BBQ Crunch   \n",
       "2  Waitrose  Manchester           1            Graze BBQ Crunch   \n",
       "3  Waitrose  Manchester           2  Graze Veggie Protein Power   \n",
       "4  Waitrose  Manchester           2  Graze Veggie Protein Power   \n",
       "\n",
       "  Week_Commencing  Sales_Units  Sales_Value  \n",
       "0      2019-03-05          133        159.6  \n",
       "1      2019-10-05          193        231.6  \n",
       "2      2019-05-17          185        222.0  \n",
       "3      2019-03-05           31         37.2  \n",
       "4      2019-10-05          124        148.8  "
      ]
     },
     "execution_count": 528,
     "metadata": {},
     "output_type": "execute_result"
    }
   ],
   "source": [
    "waitrose_df.head()"
   ]
  },
  {
   "cell_type": "code",
   "execution_count": 470,
   "metadata": {
    "scrolled": true
   },
   "outputs": [],
   "source": [
    "# Now lets look at the tesco.csv file\n",
    "tesco_df = pd.read_csv(files[1])"
   ]
  },
  {
   "cell_type": "code",
   "execution_count": 471,
   "metadata": {},
   "outputs": [
    {
     "data": {
      "text/html": [
       "<div>\n",
       "<style scoped>\n",
       "    .dataframe tbody tr th:only-of-type {\n",
       "        vertical-align: middle;\n",
       "    }\n",
       "\n",
       "    .dataframe tbody tr th {\n",
       "        vertical-align: top;\n",
       "    }\n",
       "\n",
       "    .dataframe thead th {\n",
       "        text-align: right;\n",
       "    }\n",
       "</style>\n",
       "<table border=\"1\" class=\"dataframe\">\n",
       "  <thead>\n",
       "    <tr style=\"text-align: right;\">\n",
       "      <th></th>\n",
       "      <th>retailer</th>\n",
       "      <th>store</th>\n",
       "      <th>product_id</th>\n",
       "      <th>product_name</th>\n",
       "      <th>week_commencing</th>\n",
       "      <th>metric</th>\n",
       "      <th>value</th>\n",
       "    </tr>\n",
       "  </thead>\n",
       "  <tbody>\n",
       "    <tr>\n",
       "      <th>0</th>\n",
       "      <td>Tesco</td>\n",
       "      <td>Manchester</td>\n",
       "      <td>1</td>\n",
       "      <td>Graze BBQ Crunch</td>\n",
       "      <td>03/05/2019</td>\n",
       "      <td>sales units</td>\n",
       "      <td>109</td>\n",
       "    </tr>\n",
       "    <tr>\n",
       "      <th>1</th>\n",
       "      <td>Tesco</td>\n",
       "      <td>Manchester</td>\n",
       "      <td>1</td>\n",
       "      <td>Graze BBQ Crunch</td>\n",
       "      <td>10/05/2019</td>\n",
       "      <td>sales units</td>\n",
       "      <td>45</td>\n",
       "    </tr>\n",
       "    <tr>\n",
       "      <th>2</th>\n",
       "      <td>Tesco</td>\n",
       "      <td>Manchester</td>\n",
       "      <td>1</td>\n",
       "      <td>Graze BBQ Crunch</td>\n",
       "      <td>17/05/2019</td>\n",
       "      <td>sales units</td>\n",
       "      <td>294</td>\n",
       "    </tr>\n",
       "    <tr>\n",
       "      <th>3</th>\n",
       "      <td>Tesco</td>\n",
       "      <td>Manchester</td>\n",
       "      <td>2</td>\n",
       "      <td>Graze Veggie Protein Power</td>\n",
       "      <td>03/05/2019</td>\n",
       "      <td>sales units</td>\n",
       "      <td>33</td>\n",
       "    </tr>\n",
       "    <tr>\n",
       "      <th>4</th>\n",
       "      <td>Tesco</td>\n",
       "      <td>Manchester</td>\n",
       "      <td>2</td>\n",
       "      <td>Graze Veggie Protein Power</td>\n",
       "      <td>10/05/2019</td>\n",
       "      <td>sales units</td>\n",
       "      <td>143</td>\n",
       "    </tr>\n",
       "  </tbody>\n",
       "</table>\n",
       "</div>"
      ],
      "text/plain": [
       "  retailer       store  product_id                product_name  \\\n",
       "0    Tesco  Manchester           1            Graze BBQ Crunch   \n",
       "1    Tesco  Manchester           1            Graze BBQ Crunch   \n",
       "2    Tesco  Manchester           1            Graze BBQ Crunch   \n",
       "3    Tesco  Manchester           2  Graze Veggie Protein Power   \n",
       "4    Tesco  Manchester           2  Graze Veggie Protein Power   \n",
       "\n",
       "  week_commencing       metric value  \n",
       "0      03/05/2019  sales units   109  \n",
       "1      10/05/2019  sales units    45  \n",
       "2      17/05/2019  sales units   294  \n",
       "3      03/05/2019  sales units    33  \n",
       "4      10/05/2019  sales units   143  "
      ]
     },
     "execution_count": 471,
     "metadata": {},
     "output_type": "execute_result"
    }
   ],
   "source": [
    "# Let's take a peek at the data inside the dataframe\n",
    "tesco_df.head()"
   ]
  },
  {
   "cell_type": "code",
   "execution_count": 219,
   "metadata": {
    "scrolled": true
   },
   "outputs": [
    {
     "data": {
      "text/html": [
       "<div>\n",
       "<style scoped>\n",
       "    .dataframe tbody tr th:only-of-type {\n",
       "        vertical-align: middle;\n",
       "    }\n",
       "\n",
       "    .dataframe tbody tr th {\n",
       "        vertical-align: top;\n",
       "    }\n",
       "\n",
       "    .dataframe thead th {\n",
       "        text-align: right;\n",
       "    }\n",
       "</style>\n",
       "<table border=\"1\" class=\"dataframe\">\n",
       "  <thead>\n",
       "    <tr style=\"text-align: right;\">\n",
       "      <th></th>\n",
       "      <th>retailer</th>\n",
       "      <th>store</th>\n",
       "      <th>product_id</th>\n",
       "      <th>product_name</th>\n",
       "      <th>week_commencing</th>\n",
       "      <th>metric</th>\n",
       "      <th>value</th>\n",
       "    </tr>\n",
       "  </thead>\n",
       "  <tbody>\n",
       "    <tr>\n",
       "      <th>235</th>\n",
       "      <td>Tesco</td>\n",
       "      <td>Reading</td>\n",
       "      <td>3</td>\n",
       "      <td>Graze Lively Lemon Flapjack</td>\n",
       "      <td>10/05/2019</td>\n",
       "      <td>sales value</td>\n",
       "      <td>£292.8</td>\n",
       "    </tr>\n",
       "    <tr>\n",
       "      <th>236</th>\n",
       "      <td>Tesco</td>\n",
       "      <td>Reading</td>\n",
       "      <td>3</td>\n",
       "      <td>Graze Lively Lemon Flapjack</td>\n",
       "      <td>17/05/2019</td>\n",
       "      <td>sales value</td>\n",
       "      <td>£357.6</td>\n",
       "    </tr>\n",
       "    <tr>\n",
       "      <th>237</th>\n",
       "      <td>Tesco</td>\n",
       "      <td>Reading</td>\n",
       "      <td>4</td>\n",
       "      <td>Graze Cocoa &amp; Vanilla Flapjack</td>\n",
       "      <td>03/05/2019</td>\n",
       "      <td>sales value</td>\n",
       "      <td>£26.4</td>\n",
       "    </tr>\n",
       "    <tr>\n",
       "      <th>238</th>\n",
       "      <td>Tesco</td>\n",
       "      <td>Reading</td>\n",
       "      <td>4</td>\n",
       "      <td>Graze Cocoa &amp; Vanilla Flapjack</td>\n",
       "      <td>10/05/2019</td>\n",
       "      <td>sales value</td>\n",
       "      <td>£405.6</td>\n",
       "    </tr>\n",
       "    <tr>\n",
       "      <th>239</th>\n",
       "      <td>Tesco</td>\n",
       "      <td>Reading</td>\n",
       "      <td>4</td>\n",
       "      <td>Graze Cocoa &amp; Vanilla Flapjack</td>\n",
       "      <td>17/05/2019</td>\n",
       "      <td>sales value</td>\n",
       "      <td>£350.4</td>\n",
       "    </tr>\n",
       "  </tbody>\n",
       "</table>\n",
       "</div>"
      ],
      "text/plain": [
       "    retailer    store  product_id                    product_name  \\\n",
       "235    Tesco  Reading           3     Graze Lively Lemon Flapjack   \n",
       "236    Tesco  Reading           3     Graze Lively Lemon Flapjack   \n",
       "237    Tesco  Reading           4  Graze Cocoa & Vanilla Flapjack   \n",
       "238    Tesco  Reading           4  Graze Cocoa & Vanilla Flapjack   \n",
       "239    Tesco  Reading           4  Graze Cocoa & Vanilla Flapjack   \n",
       "\n",
       "    week_commencing       metric   value  \n",
       "235      10/05/2019  sales value  £292.8  \n",
       "236      17/05/2019  sales value  £357.6  \n",
       "237      03/05/2019  sales value   £26.4  \n",
       "238      10/05/2019  sales value  £405.6  \n",
       "239      17/05/2019  sales value  £350.4  "
      ]
     },
     "execution_count": 219,
     "metadata": {},
     "output_type": "execute_result"
    }
   ],
   "source": [
    "# We can look at the tail of the dataframe as well.\n",
    "tesco_df.tail()"
   ]
  },
  {
   "cell_type": "code",
   "execution_count": 87,
   "metadata": {
    "scrolled": true
   },
   "outputs": [
    {
     "name": "stdout",
     "output_type": "stream",
     "text": [
      "<class 'pandas.core.frame.DataFrame'>\n",
      "RangeIndex: 240 entries, 0 to 239\n",
      "Data columns (total 7 columns):\n",
      "retailer           240 non-null object\n",
      "store              240 non-null object\n",
      "product_id         240 non-null int64\n",
      "product_name       240 non-null object\n",
      "week_commencing    240 non-null object\n",
      "metric             240 non-null object\n",
      "value              240 non-null object\n",
      "dtypes: int64(1), object(6)\n",
      "memory usage: 13.2+ KB\n"
     ]
    }
   ],
   "source": [
    "# We can look at the data types of the dataframe.\n",
    "tesco_df.info()"
   ]
  },
  {
   "cell_type": "code",
   "execution_count": 384,
   "metadata": {
    "scrolled": false
   },
   "outputs": [],
   "source": [
    "\"\"\"\n",
    "We need to change the data type of \"week_commencing\" column from object type to datetime64 and \n",
    "correct the sales curreny to a float type to perform calculations.\n",
    "\"\"\"\n",
    "parse_dates = ['Week_Commencing']\n",
    "column_list = ['Retailer', 'Store', 'Product_id', 'Product_Name', 'Week_Commencing', 'Metric', 'Value']\n",
    "tesco_df = pd.read_csv(files[1], skiprows=1, \n",
    "                       names=column_list, \n",
    "                       parse_dates=parse_dates,\n",
    "                      )"
   ]
  },
  {
   "cell_type": "code",
   "execution_count": 385,
   "metadata": {
    "scrolled": true
   },
   "outputs": [
    {
     "name": "stdout",
     "output_type": "stream",
     "text": [
      "<class 'pandas.core.frame.DataFrame'>\n",
      "RangeIndex: 240 entries, 0 to 239\n",
      "Data columns (total 7 columns):\n",
      "Retailer           240 non-null object\n",
      "Store              240 non-null object\n",
      "Product_id         240 non-null int64\n",
      "Product_Name       240 non-null object\n",
      "Week_Commencing    240 non-null datetime64[ns]\n",
      "Metric             240 non-null object\n",
      "Value              240 non-null object\n",
      "dtypes: datetime64[ns](1), int64(1), object(5)\n",
      "memory usage: 13.2+ KB\n"
     ]
    }
   ],
   "source": [
    "# Let's check if the dataframe has been updated.\n",
    "tesco_df.info()"
   ]
  },
  {
   "cell_type": "code",
   "execution_count": 386,
   "metadata": {
    "scrolled": true
   },
   "outputs": [
    {
     "data": {
      "text/html": [
       "<div>\n",
       "<style scoped>\n",
       "    .dataframe tbody tr th:only-of-type {\n",
       "        vertical-align: middle;\n",
       "    }\n",
       "\n",
       "    .dataframe tbody tr th {\n",
       "        vertical-align: top;\n",
       "    }\n",
       "\n",
       "    .dataframe thead th {\n",
       "        text-align: right;\n",
       "    }\n",
       "</style>\n",
       "<table border=\"1\" class=\"dataframe\">\n",
       "  <thead>\n",
       "    <tr style=\"text-align: right;\">\n",
       "      <th></th>\n",
       "      <th>Retailer</th>\n",
       "      <th>Store</th>\n",
       "      <th>Product_id</th>\n",
       "      <th>Product_Name</th>\n",
       "      <th>Week_Commencing</th>\n",
       "      <th>Metric</th>\n",
       "      <th>Value</th>\n",
       "    </tr>\n",
       "  </thead>\n",
       "  <tbody>\n",
       "    <tr>\n",
       "      <th>0</th>\n",
       "      <td>Tesco</td>\n",
       "      <td>Manchester</td>\n",
       "      <td>1</td>\n",
       "      <td>Graze BBQ Crunch</td>\n",
       "      <td>2019-03-05</td>\n",
       "      <td>sales units</td>\n",
       "      <td>109</td>\n",
       "    </tr>\n",
       "    <tr>\n",
       "      <th>1</th>\n",
       "      <td>Tesco</td>\n",
       "      <td>Manchester</td>\n",
       "      <td>1</td>\n",
       "      <td>Graze BBQ Crunch</td>\n",
       "      <td>2019-10-05</td>\n",
       "      <td>sales units</td>\n",
       "      <td>45</td>\n",
       "    </tr>\n",
       "    <tr>\n",
       "      <th>2</th>\n",
       "      <td>Tesco</td>\n",
       "      <td>Manchester</td>\n",
       "      <td>1</td>\n",
       "      <td>Graze BBQ Crunch</td>\n",
       "      <td>2019-05-17</td>\n",
       "      <td>sales units</td>\n",
       "      <td>294</td>\n",
       "    </tr>\n",
       "    <tr>\n",
       "      <th>3</th>\n",
       "      <td>Tesco</td>\n",
       "      <td>Manchester</td>\n",
       "      <td>2</td>\n",
       "      <td>Graze Veggie Protein Power</td>\n",
       "      <td>2019-03-05</td>\n",
       "      <td>sales units</td>\n",
       "      <td>33</td>\n",
       "    </tr>\n",
       "    <tr>\n",
       "      <th>4</th>\n",
       "      <td>Tesco</td>\n",
       "      <td>Manchester</td>\n",
       "      <td>2</td>\n",
       "      <td>Graze Veggie Protein Power</td>\n",
       "      <td>2019-10-05</td>\n",
       "      <td>sales units</td>\n",
       "      <td>143</td>\n",
       "    </tr>\n",
       "  </tbody>\n",
       "</table>\n",
       "</div>"
      ],
      "text/plain": [
       "  Retailer       Store  Product_id                Product_Name  \\\n",
       "0    Tesco  Manchester           1            Graze BBQ Crunch   \n",
       "1    Tesco  Manchester           1            Graze BBQ Crunch   \n",
       "2    Tesco  Manchester           1            Graze BBQ Crunch   \n",
       "3    Tesco  Manchester           2  Graze Veggie Protein Power   \n",
       "4    Tesco  Manchester           2  Graze Veggie Protein Power   \n",
       "\n",
       "  Week_Commencing       Metric Value  \n",
       "0      2019-03-05  sales units   109  \n",
       "1      2019-10-05  sales units    45  \n",
       "2      2019-05-17  sales units   294  \n",
       "3      2019-03-05  sales units    33  \n",
       "4      2019-10-05  sales units   143  "
      ]
     },
     "execution_count": 386,
     "metadata": {},
     "output_type": "execute_result"
    }
   ],
   "source": [
    "# Let's take a look at the data in the dataframe.\n",
    "tesco_df.head()"
   ]
  },
  {
   "cell_type": "code",
   "execution_count": 387,
   "metadata": {},
   "outputs": [
    {
     "data": {
      "text/html": [
       "<div>\n",
       "<style scoped>\n",
       "    .dataframe tbody tr th:only-of-type {\n",
       "        vertical-align: middle;\n",
       "    }\n",
       "\n",
       "    .dataframe tbody tr th {\n",
       "        vertical-align: top;\n",
       "    }\n",
       "\n",
       "    .dataframe thead th {\n",
       "        text-align: right;\n",
       "    }\n",
       "</style>\n",
       "<table border=\"1\" class=\"dataframe\">\n",
       "  <thead>\n",
       "    <tr style=\"text-align: right;\">\n",
       "      <th></th>\n",
       "      <th>Retailer</th>\n",
       "      <th>Store</th>\n",
       "      <th>Product_id</th>\n",
       "      <th>Product_Name</th>\n",
       "      <th>Week_Commencing</th>\n",
       "      <th>Metric</th>\n",
       "      <th>Value</th>\n",
       "    </tr>\n",
       "  </thead>\n",
       "  <tbody>\n",
       "    <tr>\n",
       "      <th>235</th>\n",
       "      <td>Tesco</td>\n",
       "      <td>Reading</td>\n",
       "      <td>3</td>\n",
       "      <td>Graze Lively Lemon Flapjack</td>\n",
       "      <td>2019-10-05</td>\n",
       "      <td>sales value</td>\n",
       "      <td>£292.8</td>\n",
       "    </tr>\n",
       "    <tr>\n",
       "      <th>236</th>\n",
       "      <td>Tesco</td>\n",
       "      <td>Reading</td>\n",
       "      <td>3</td>\n",
       "      <td>Graze Lively Lemon Flapjack</td>\n",
       "      <td>2019-05-17</td>\n",
       "      <td>sales value</td>\n",
       "      <td>£357.6</td>\n",
       "    </tr>\n",
       "    <tr>\n",
       "      <th>237</th>\n",
       "      <td>Tesco</td>\n",
       "      <td>Reading</td>\n",
       "      <td>4</td>\n",
       "      <td>Graze Cocoa &amp; Vanilla Flapjack</td>\n",
       "      <td>2019-03-05</td>\n",
       "      <td>sales value</td>\n",
       "      <td>£26.4</td>\n",
       "    </tr>\n",
       "    <tr>\n",
       "      <th>238</th>\n",
       "      <td>Tesco</td>\n",
       "      <td>Reading</td>\n",
       "      <td>4</td>\n",
       "      <td>Graze Cocoa &amp; Vanilla Flapjack</td>\n",
       "      <td>2019-10-05</td>\n",
       "      <td>sales value</td>\n",
       "      <td>£405.6</td>\n",
       "    </tr>\n",
       "    <tr>\n",
       "      <th>239</th>\n",
       "      <td>Tesco</td>\n",
       "      <td>Reading</td>\n",
       "      <td>4</td>\n",
       "      <td>Graze Cocoa &amp; Vanilla Flapjack</td>\n",
       "      <td>2019-05-17</td>\n",
       "      <td>sales value</td>\n",
       "      <td>£350.4</td>\n",
       "    </tr>\n",
       "  </tbody>\n",
       "</table>\n",
       "</div>"
      ],
      "text/plain": [
       "    Retailer    Store  Product_id                    Product_Name  \\\n",
       "235    Tesco  Reading           3     Graze Lively Lemon Flapjack   \n",
       "236    Tesco  Reading           3     Graze Lively Lemon Flapjack   \n",
       "237    Tesco  Reading           4  Graze Cocoa & Vanilla Flapjack   \n",
       "238    Tesco  Reading           4  Graze Cocoa & Vanilla Flapjack   \n",
       "239    Tesco  Reading           4  Graze Cocoa & Vanilla Flapjack   \n",
       "\n",
       "    Week_Commencing       Metric   Value  \n",
       "235      2019-10-05  sales value  £292.8  \n",
       "236      2019-05-17  sales value  £357.6  \n",
       "237      2019-03-05  sales value   £26.4  \n",
       "238      2019-10-05  sales value  £405.6  \n",
       "239      2019-05-17  sales value  £350.4  "
      ]
     },
     "execution_count": 387,
     "metadata": {},
     "output_type": "execute_result"
    }
   ],
   "source": [
    "# Now look at the tail of the dataframe as well, we note that the bottom show pound values not int values.\n",
    "tesco_df.tail()"
   ]
  },
  {
   "cell_type": "code",
   "execution_count": 320,
   "metadata": {},
   "outputs": [],
   "source": [
    "del tesco_df['test']"
   ]
  },
  {
   "cell_type": "code",
   "execution_count": 581,
   "metadata": {},
   "outputs": [],
   "source": [
    "\"\"\"\n",
    "As we noted that the first 119 rows are Sales Units and the remaining rows till 239 are Sales Value. \n",
    "We can split them into two different dataframes and select only the columns we need. Aslo, noted that\n",
    "the same rows have been repeated except for the Value column.\n",
    "\"\"\"\n",
    "# We are selecting rows from start to 119 and all columns using the iloc function.\n",
    "test1_df = tesco_df.iloc[:120, :]\n",
    "test1_df.columns = [\"Retailer\", \"Store\", \"Product_Id\", \"Product_Name\", \"Week_Commencing\", \"Metric\", \"Sales_Units\"]\n",
    "# We are going to select the rows 120:239 which contain the \"Sales Value\" and select only the Values column.\n",
    "# We need to use to_frame() function as the series needs to be converted into DataFrame and reset the index to be from 0 10 119.\n",
    "test2_df = tesco_df.iloc[120:240, 6].to_frame().reset_index(drop=True)\n",
    "test2_df.columns = [\"Sales_Value\"]"
   ]
  },
  {
   "cell_type": "code",
   "execution_count": 582,
   "metadata": {
    "scrolled": true
   },
   "outputs": [
    {
     "data": {
      "text/plain": [
       "pandas.core.frame.DataFrame"
      ]
     },
     "execution_count": 582,
     "metadata": {},
     "output_type": "execute_result"
    }
   ],
   "source": [
    "type(test2_df)"
   ]
  },
  {
   "cell_type": "code",
   "execution_count": 584,
   "metadata": {
    "scrolled": true
   },
   "outputs": [
    {
     "data": {
      "text/html": [
       "<div>\n",
       "<style scoped>\n",
       "    .dataframe tbody tr th:only-of-type {\n",
       "        vertical-align: middle;\n",
       "    }\n",
       "\n",
       "    .dataframe tbody tr th {\n",
       "        vertical-align: top;\n",
       "    }\n",
       "\n",
       "    .dataframe thead th {\n",
       "        text-align: right;\n",
       "    }\n",
       "</style>\n",
       "<table border=\"1\" class=\"dataframe\">\n",
       "  <thead>\n",
       "    <tr style=\"text-align: right;\">\n",
       "      <th></th>\n",
       "      <th>Retailer</th>\n",
       "      <th>Store</th>\n",
       "      <th>Product_Id</th>\n",
       "      <th>Product_Name</th>\n",
       "      <th>Week_Commencing</th>\n",
       "      <th>Metric</th>\n",
       "      <th>Sales_Units</th>\n",
       "    </tr>\n",
       "  </thead>\n",
       "  <tbody>\n",
       "    <tr>\n",
       "      <th>0</th>\n",
       "      <td>Tesco</td>\n",
       "      <td>Manchester</td>\n",
       "      <td>1</td>\n",
       "      <td>Graze BBQ Crunch</td>\n",
       "      <td>03/05/2019</td>\n",
       "      <td>sales units</td>\n",
       "      <td>109</td>\n",
       "    </tr>\n",
       "    <tr>\n",
       "      <th>1</th>\n",
       "      <td>Tesco</td>\n",
       "      <td>Manchester</td>\n",
       "      <td>1</td>\n",
       "      <td>Graze BBQ Crunch</td>\n",
       "      <td>10/05/2019</td>\n",
       "      <td>sales units</td>\n",
       "      <td>45</td>\n",
       "    </tr>\n",
       "    <tr>\n",
       "      <th>2</th>\n",
       "      <td>Tesco</td>\n",
       "      <td>Manchester</td>\n",
       "      <td>1</td>\n",
       "      <td>Graze BBQ Crunch</td>\n",
       "      <td>17/05/2019</td>\n",
       "      <td>sales units</td>\n",
       "      <td>294</td>\n",
       "    </tr>\n",
       "    <tr>\n",
       "      <th>3</th>\n",
       "      <td>Tesco</td>\n",
       "      <td>Manchester</td>\n",
       "      <td>2</td>\n",
       "      <td>Graze Veggie Protein Power</td>\n",
       "      <td>03/05/2019</td>\n",
       "      <td>sales units</td>\n",
       "      <td>33</td>\n",
       "    </tr>\n",
       "    <tr>\n",
       "      <th>4</th>\n",
       "      <td>Tesco</td>\n",
       "      <td>Manchester</td>\n",
       "      <td>2</td>\n",
       "      <td>Graze Veggie Protein Power</td>\n",
       "      <td>10/05/2019</td>\n",
       "      <td>sales units</td>\n",
       "      <td>143</td>\n",
       "    </tr>\n",
       "  </tbody>\n",
       "</table>\n",
       "</div>"
      ],
      "text/plain": [
       "  Retailer       Store  Product_Id                Product_Name  \\\n",
       "0    Tesco  Manchester           1            Graze BBQ Crunch   \n",
       "1    Tesco  Manchester           1            Graze BBQ Crunch   \n",
       "2    Tesco  Manchester           1            Graze BBQ Crunch   \n",
       "3    Tesco  Manchester           2  Graze Veggie Protein Power   \n",
       "4    Tesco  Manchester           2  Graze Veggie Protein Power   \n",
       "\n",
       "  Week_Commencing       Metric Sales_Units  \n",
       "0      03/05/2019  sales units         109  \n",
       "1      10/05/2019  sales units          45  \n",
       "2      17/05/2019  sales units         294  \n",
       "3      03/05/2019  sales units          33  \n",
       "4      10/05/2019  sales units         143  "
      ]
     },
     "execution_count": 584,
     "metadata": {},
     "output_type": "execute_result"
    }
   ],
   "source": [
    "# Lets check the head and tail of test1_df to ensure we split the dataframe properly.\n",
    "test1_df.head()"
   ]
  },
  {
   "cell_type": "code",
   "execution_count": 578,
   "metadata": {
    "scrolled": false
   },
   "outputs": [
    {
     "data": {
      "text/html": [
       "<div>\n",
       "<style scoped>\n",
       "    .dataframe tbody tr th:only-of-type {\n",
       "        vertical-align: middle;\n",
       "    }\n",
       "\n",
       "    .dataframe tbody tr th {\n",
       "        vertical-align: top;\n",
       "    }\n",
       "\n",
       "    .dataframe thead th {\n",
       "        text-align: right;\n",
       "    }\n",
       "</style>\n",
       "<table border=\"1\" class=\"dataframe\">\n",
       "  <thead>\n",
       "    <tr style=\"text-align: right;\">\n",
       "      <th></th>\n",
       "      <th>Retailer</th>\n",
       "      <th>Store</th>\n",
       "      <th>Product_Id</th>\n",
       "      <th>Product_Name</th>\n",
       "      <th>Week_Commencing</th>\n",
       "      <th>Metric</th>\n",
       "      <th>Sales_Units</th>\n",
       "    </tr>\n",
       "  </thead>\n",
       "  <tbody>\n",
       "    <tr>\n",
       "      <th>115</th>\n",
       "      <td>Tesco</td>\n",
       "      <td>Reading</td>\n",
       "      <td>3</td>\n",
       "      <td>Graze Lively Lemon Flapjack</td>\n",
       "      <td>2019-10-05</td>\n",
       "      <td>sales units</td>\n",
       "      <td>244</td>\n",
       "    </tr>\n",
       "    <tr>\n",
       "      <th>116</th>\n",
       "      <td>Tesco</td>\n",
       "      <td>Reading</td>\n",
       "      <td>3</td>\n",
       "      <td>Graze Lively Lemon Flapjack</td>\n",
       "      <td>2019-05-17</td>\n",
       "      <td>sales units</td>\n",
       "      <td>298</td>\n",
       "    </tr>\n",
       "    <tr>\n",
       "      <th>117</th>\n",
       "      <td>Tesco</td>\n",
       "      <td>Reading</td>\n",
       "      <td>4</td>\n",
       "      <td>Graze Cocoa &amp; Vanilla Flapjack</td>\n",
       "      <td>2019-03-05</td>\n",
       "      <td>sales units</td>\n",
       "      <td>22</td>\n",
       "    </tr>\n",
       "    <tr>\n",
       "      <th>118</th>\n",
       "      <td>Tesco</td>\n",
       "      <td>Reading</td>\n",
       "      <td>4</td>\n",
       "      <td>Graze Cocoa &amp; Vanilla Flapjack</td>\n",
       "      <td>2019-10-05</td>\n",
       "      <td>sales units</td>\n",
       "      <td>338</td>\n",
       "    </tr>\n",
       "    <tr>\n",
       "      <th>119</th>\n",
       "      <td>Tesco</td>\n",
       "      <td>Reading</td>\n",
       "      <td>4</td>\n",
       "      <td>Graze Cocoa &amp; Vanilla Flapjack</td>\n",
       "      <td>2019-05-17</td>\n",
       "      <td>sales units</td>\n",
       "      <td>292</td>\n",
       "    </tr>\n",
       "  </tbody>\n",
       "</table>\n",
       "</div>"
      ],
      "text/plain": [
       "    Retailer    Store  Product_Id                    Product_Name  \\\n",
       "115    Tesco  Reading           3     Graze Lively Lemon Flapjack   \n",
       "116    Tesco  Reading           3     Graze Lively Lemon Flapjack   \n",
       "117    Tesco  Reading           4  Graze Cocoa & Vanilla Flapjack   \n",
       "118    Tesco  Reading           4  Graze Cocoa & Vanilla Flapjack   \n",
       "119    Tesco  Reading           4  Graze Cocoa & Vanilla Flapjack   \n",
       "\n",
       "    Week_Commencing       Metric Sales_Units  \n",
       "115      2019-10-05  sales units         244  \n",
       "116      2019-05-17  sales units         298  \n",
       "117      2019-03-05  sales units          22  \n",
       "118      2019-10-05  sales units         338  \n",
       "119      2019-05-17  sales units         292  "
      ]
     },
     "execution_count": 578,
     "metadata": {},
     "output_type": "execute_result"
    }
   ],
   "source": [
    "# Lets check the head and tail of test1_df to ensure we split the dataframe properly.\n",
    "test1_df.tail()"
   ]
  },
  {
   "cell_type": "code",
   "execution_count": 585,
   "metadata": {},
   "outputs": [],
   "source": [
    "# We can now drop the \"Metric\" Column which is no longer needed as we have split the values.\n",
    "del test1_df['Metric']"
   ]
  },
  {
   "cell_type": "code",
   "execution_count": 586,
   "metadata": {},
   "outputs": [
    {
     "data": {
      "text/plain": [
       "Index(['Retailer', 'Store', 'Product_Id', 'Product_Name', 'Week_Commencing',\n",
       "       'Sales_Units'],\n",
       "      dtype='object')"
      ]
     },
     "execution_count": 586,
     "metadata": {},
     "output_type": "execute_result"
    }
   ],
   "source": [
    "# We can now check to ensure it has been deleted.\n",
    "test1_df.columns"
   ]
  },
  {
   "cell_type": "code",
   "execution_count": 587,
   "metadata": {},
   "outputs": [
    {
     "data": {
      "text/html": [
       "<div>\n",
       "<style scoped>\n",
       "    .dataframe tbody tr th:only-of-type {\n",
       "        vertical-align: middle;\n",
       "    }\n",
       "\n",
       "    .dataframe tbody tr th {\n",
       "        vertical-align: top;\n",
       "    }\n",
       "\n",
       "    .dataframe thead th {\n",
       "        text-align: right;\n",
       "    }\n",
       "</style>\n",
       "<table border=\"1\" class=\"dataframe\">\n",
       "  <thead>\n",
       "    <tr style=\"text-align: right;\">\n",
       "      <th></th>\n",
       "      <th>Sales_Value</th>\n",
       "    </tr>\n",
       "  </thead>\n",
       "  <tbody>\n",
       "    <tr>\n",
       "      <th>0</th>\n",
       "      <td>£130.8</td>\n",
       "    </tr>\n",
       "    <tr>\n",
       "      <th>1</th>\n",
       "      <td>£54</td>\n",
       "    </tr>\n",
       "    <tr>\n",
       "      <th>2</th>\n",
       "      <td>£352.8</td>\n",
       "    </tr>\n",
       "    <tr>\n",
       "      <th>3</th>\n",
       "      <td>£39.6</td>\n",
       "    </tr>\n",
       "    <tr>\n",
       "      <th>4</th>\n",
       "      <td>£171.6</td>\n",
       "    </tr>\n",
       "  </tbody>\n",
       "</table>\n",
       "</div>"
      ],
      "text/plain": [
       "  Sales_Value\n",
       "0      £130.8\n",
       "1         £54\n",
       "2      £352.8\n",
       "3       £39.6\n",
       "4      £171.6"
      ]
     },
     "execution_count": 587,
     "metadata": {},
     "output_type": "execute_result"
    }
   ],
   "source": [
    "# Lets check the head of test2_df.\n",
    "test2_df.head()"
   ]
  },
  {
   "cell_type": "code",
   "execution_count": 588,
   "metadata": {},
   "outputs": [],
   "source": [
    "# We can combine both the dataframes into one final dataframe.\n",
    "final_df = test1_df.join(test2_df)"
   ]
  },
  {
   "cell_type": "code",
   "execution_count": 589,
   "metadata": {
    "scrolled": true
   },
   "outputs": [
    {
     "data": {
      "text/html": [
       "<div>\n",
       "<style scoped>\n",
       "    .dataframe tbody tr th:only-of-type {\n",
       "        vertical-align: middle;\n",
       "    }\n",
       "\n",
       "    .dataframe tbody tr th {\n",
       "        vertical-align: top;\n",
       "    }\n",
       "\n",
       "    .dataframe thead th {\n",
       "        text-align: right;\n",
       "    }\n",
       "</style>\n",
       "<table border=\"1\" class=\"dataframe\">\n",
       "  <thead>\n",
       "    <tr style=\"text-align: right;\">\n",
       "      <th></th>\n",
       "      <th>Retailer</th>\n",
       "      <th>Store</th>\n",
       "      <th>Product_Id</th>\n",
       "      <th>Product_Name</th>\n",
       "      <th>Week_Commencing</th>\n",
       "      <th>Sales_Units</th>\n",
       "      <th>Sales_Value</th>\n",
       "    </tr>\n",
       "  </thead>\n",
       "  <tbody>\n",
       "    <tr>\n",
       "      <th>0</th>\n",
       "      <td>Tesco</td>\n",
       "      <td>Manchester</td>\n",
       "      <td>1</td>\n",
       "      <td>Graze BBQ Crunch</td>\n",
       "      <td>03/05/2019</td>\n",
       "      <td>109</td>\n",
       "      <td>£130.8</td>\n",
       "    </tr>\n",
       "    <tr>\n",
       "      <th>1</th>\n",
       "      <td>Tesco</td>\n",
       "      <td>Manchester</td>\n",
       "      <td>1</td>\n",
       "      <td>Graze BBQ Crunch</td>\n",
       "      <td>10/05/2019</td>\n",
       "      <td>45</td>\n",
       "      <td>£54</td>\n",
       "    </tr>\n",
       "    <tr>\n",
       "      <th>2</th>\n",
       "      <td>Tesco</td>\n",
       "      <td>Manchester</td>\n",
       "      <td>1</td>\n",
       "      <td>Graze BBQ Crunch</td>\n",
       "      <td>17/05/2019</td>\n",
       "      <td>294</td>\n",
       "      <td>£352.8</td>\n",
       "    </tr>\n",
       "    <tr>\n",
       "      <th>3</th>\n",
       "      <td>Tesco</td>\n",
       "      <td>Manchester</td>\n",
       "      <td>2</td>\n",
       "      <td>Graze Veggie Protein Power</td>\n",
       "      <td>03/05/2019</td>\n",
       "      <td>33</td>\n",
       "      <td>£39.6</td>\n",
       "    </tr>\n",
       "    <tr>\n",
       "      <th>4</th>\n",
       "      <td>Tesco</td>\n",
       "      <td>Manchester</td>\n",
       "      <td>2</td>\n",
       "      <td>Graze Veggie Protein Power</td>\n",
       "      <td>10/05/2019</td>\n",
       "      <td>143</td>\n",
       "      <td>£171.6</td>\n",
       "    </tr>\n",
       "  </tbody>\n",
       "</table>\n",
       "</div>"
      ],
      "text/plain": [
       "  Retailer       Store  Product_Id                Product_Name  \\\n",
       "0    Tesco  Manchester           1            Graze BBQ Crunch   \n",
       "1    Tesco  Manchester           1            Graze BBQ Crunch   \n",
       "2    Tesco  Manchester           1            Graze BBQ Crunch   \n",
       "3    Tesco  Manchester           2  Graze Veggie Protein Power   \n",
       "4    Tesco  Manchester           2  Graze Veggie Protein Power   \n",
       "\n",
       "  Week_Commencing Sales_Units Sales_Value  \n",
       "0      03/05/2019         109      £130.8  \n",
       "1      10/05/2019          45         £54  \n",
       "2      17/05/2019         294      £352.8  \n",
       "3      03/05/2019          33       £39.6  \n",
       "4      10/05/2019         143      £171.6  "
      ]
     },
     "execution_count": 589,
     "metadata": {},
     "output_type": "execute_result"
    }
   ],
   "source": [
    "# Lets check the values of final df.\n",
    "final_df.head()"
   ]
  },
  {
   "cell_type": "code",
   "execution_count": 590,
   "metadata": {
    "scrolled": true
   },
   "outputs": [
    {
     "name": "stdout",
     "output_type": "stream",
     "text": [
      "<class 'pandas.core.frame.DataFrame'>\n",
      "RangeIndex: 120 entries, 0 to 119\n",
      "Data columns (total 7 columns):\n",
      "Retailer           120 non-null object\n",
      "Store              120 non-null object\n",
      "Product_Id         120 non-null int64\n",
      "Product_Name       120 non-null object\n",
      "Week_Commencing    120 non-null object\n",
      "Sales_Units        120 non-null object\n",
      "Sales_Value        120 non-null object\n",
      "dtypes: int64(1), object(6)\n",
      "memory usage: 6.7+ KB\n"
     ]
    }
   ],
   "source": [
    "# Lets do a quick info on the final_df\n",
    "final_df.info()"
   ]
  },
  {
   "cell_type": "code",
   "execution_count": 563,
   "metadata": {},
   "outputs": [],
   "source": [
    "# Let's update the data type of Sales_Units column to Int to match with Waitrose and be consistent for merging.\n",
    "final_df['Sales_Units'] = final_df['Sales_Units'].astype('int64')"
   ]
  },
  {
   "cell_type": "code",
   "execution_count": 591,
   "metadata": {},
   "outputs": [],
   "source": [
    "# We need to modify the Curreny Value in Sales_Value column to float64 for future calculations.\n",
    "final_df['Sales_Value'] = final_df['Sales_Value'].apply(convert_currency)"
   ]
  },
  {
   "cell_type": "code",
   "execution_count": 592,
   "metadata": {},
   "outputs": [],
   "source": [
    "# Let's update the data type of \"Week_Commencing\" column which is currently set to \"Object Type\".\n",
    "final_df['Week_Commencing'] = final_df['Week_Commencing'].astype('datetime64')"
   ]
  },
  {
   "cell_type": "code",
   "execution_count": 602,
   "metadata": {},
   "outputs": [
    {
     "name": "stdout",
     "output_type": "stream",
     "text": [
      "<class 'pandas.core.frame.DataFrame'>\n",
      "RangeIndex: 120 entries, 0 to 119\n",
      "Data columns (total 7 columns):\n",
      "Retailer           120 non-null object\n",
      "Store              120 non-null object\n",
      "Product_Id         120 non-null int64\n",
      "Product_Name       120 non-null object\n",
      "Week_Commencing    120 non-null datetime64[ns]\n",
      "Sales_Units        120 non-null object\n",
      "Sales_Value        120 non-null float64\n",
      "dtypes: datetime64[ns](1), float64(1), int64(1), object(4)\n",
      "memory usage: 6.7+ KB\n"
     ]
    }
   ],
   "source": [
    "# We could verify if all of the data types have been updated based on the above steps taken.\n",
    "final_df.info()"
   ]
  },
  {
   "cell_type": "code",
   "execution_count": 594,
   "metadata": {},
   "outputs": [
    {
     "name": "stdout",
     "output_type": "stream",
     "text": [
      "<class 'pandas.core.frame.DataFrame'>\n",
      "RangeIndex: 120 entries, 0 to 119\n",
      "Data columns (total 7 columns):\n",
      "Retailer           120 non-null object\n",
      "Store              120 non-null object\n",
      "Product_Id         120 non-null int64\n",
      "Product_Name       120 non-null object\n",
      "Week_Commencing    120 non-null datetime64[ns]\n",
      "Sales_Units        120 non-null int64\n",
      "Sales_Value        120 non-null float64\n",
      "dtypes: datetime64[ns](1), float64(1), int64(2), object(3)\n",
      "memory usage: 6.7+ KB\n"
     ]
    }
   ],
   "source": [
    "waitrose_df.info()"
   ]
  },
  {
   "cell_type": "code",
   "execution_count": 603,
   "metadata": {},
   "outputs": [],
   "source": [
    "\"\"\"\n",
    "Finally we can merge both Waitrose_df and Tesco_df into 1 single dataframe or \n",
    "CSV file that can be loaded into the Database table.\n",
    "\"\"\"\n",
    "dbready_df = pd.concat([final_df, waitrose_df], ignore_index=True)"
   ]
  },
  {
   "cell_type": "code",
   "execution_count": 600,
   "metadata": {},
   "outputs": [
    {
     "data": {
      "text/html": [
       "<div>\n",
       "<style scoped>\n",
       "    .dataframe tbody tr th:only-of-type {\n",
       "        vertical-align: middle;\n",
       "    }\n",
       "\n",
       "    .dataframe tbody tr th {\n",
       "        vertical-align: top;\n",
       "    }\n",
       "\n",
       "    .dataframe thead th {\n",
       "        text-align: right;\n",
       "    }\n",
       "</style>\n",
       "<table border=\"1\" class=\"dataframe\">\n",
       "  <thead>\n",
       "    <tr style=\"text-align: right;\">\n",
       "      <th></th>\n",
       "      <th>Retailer</th>\n",
       "      <th>Store</th>\n",
       "      <th>Product_Id</th>\n",
       "      <th>Product_Name</th>\n",
       "      <th>Week_Commencing</th>\n",
       "      <th>Sales_Units</th>\n",
       "      <th>Sales_Value</th>\n",
       "    </tr>\n",
       "  </thead>\n",
       "  <tbody>\n",
       "    <tr>\n",
       "      <th>0</th>\n",
       "      <td>Tesco</td>\n",
       "      <td>Manchester</td>\n",
       "      <td>1</td>\n",
       "      <td>Graze BBQ Crunch</td>\n",
       "      <td>2019-03-05</td>\n",
       "      <td>109</td>\n",
       "      <td>130.8</td>\n",
       "    </tr>\n",
       "    <tr>\n",
       "      <th>1</th>\n",
       "      <td>Tesco</td>\n",
       "      <td>Manchester</td>\n",
       "      <td>1</td>\n",
       "      <td>Graze BBQ Crunch</td>\n",
       "      <td>2019-10-05</td>\n",
       "      <td>45</td>\n",
       "      <td>54.0</td>\n",
       "    </tr>\n",
       "    <tr>\n",
       "      <th>2</th>\n",
       "      <td>Tesco</td>\n",
       "      <td>Manchester</td>\n",
       "      <td>1</td>\n",
       "      <td>Graze BBQ Crunch</td>\n",
       "      <td>2019-05-17</td>\n",
       "      <td>294</td>\n",
       "      <td>352.8</td>\n",
       "    </tr>\n",
       "    <tr>\n",
       "      <th>3</th>\n",
       "      <td>Tesco</td>\n",
       "      <td>Manchester</td>\n",
       "      <td>2</td>\n",
       "      <td>Graze Veggie Protein Power</td>\n",
       "      <td>2019-03-05</td>\n",
       "      <td>33</td>\n",
       "      <td>39.6</td>\n",
       "    </tr>\n",
       "    <tr>\n",
       "      <th>4</th>\n",
       "      <td>Tesco</td>\n",
       "      <td>Manchester</td>\n",
       "      <td>2</td>\n",
       "      <td>Graze Veggie Protein Power</td>\n",
       "      <td>2019-10-05</td>\n",
       "      <td>143</td>\n",
       "      <td>171.6</td>\n",
       "    </tr>\n",
       "    <tr>\n",
       "      <th>...</th>\n",
       "      <td>...</td>\n",
       "      <td>...</td>\n",
       "      <td>...</td>\n",
       "      <td>...</td>\n",
       "      <td>...</td>\n",
       "      <td>...</td>\n",
       "      <td>...</td>\n",
       "    </tr>\n",
       "    <tr>\n",
       "      <th>235</th>\n",
       "      <td>Waitrose</td>\n",
       "      <td>Reading</td>\n",
       "      <td>3</td>\n",
       "      <td>Graze Lively Lemon Flapjack</td>\n",
       "      <td>2019-10-05</td>\n",
       "      <td>44</td>\n",
       "      <td>52.8</td>\n",
       "    </tr>\n",
       "    <tr>\n",
       "      <th>236</th>\n",
       "      <td>Waitrose</td>\n",
       "      <td>Reading</td>\n",
       "      <td>3</td>\n",
       "      <td>Graze Lively Lemon Flapjack</td>\n",
       "      <td>2019-05-17</td>\n",
       "      <td>9</td>\n",
       "      <td>10.8</td>\n",
       "    </tr>\n",
       "    <tr>\n",
       "      <th>237</th>\n",
       "      <td>Waitrose</td>\n",
       "      <td>Reading</td>\n",
       "      <td>4</td>\n",
       "      <td>Graze Cocoa &amp; Vanilla Flapjack</td>\n",
       "      <td>2019-03-05</td>\n",
       "      <td>22</td>\n",
       "      <td>26.4</td>\n",
       "    </tr>\n",
       "    <tr>\n",
       "      <th>238</th>\n",
       "      <td>Waitrose</td>\n",
       "      <td>Reading</td>\n",
       "      <td>4</td>\n",
       "      <td>Graze Cocoa &amp; Vanilla Flapjack</td>\n",
       "      <td>2019-10-05</td>\n",
       "      <td>49</td>\n",
       "      <td>58.8</td>\n",
       "    </tr>\n",
       "    <tr>\n",
       "      <th>239</th>\n",
       "      <td>Waitrose</td>\n",
       "      <td>Reading</td>\n",
       "      <td>4</td>\n",
       "      <td>Graze Cocoa &amp; Vanilla Flapjack</td>\n",
       "      <td>2019-05-17</td>\n",
       "      <td>18</td>\n",
       "      <td>21.6</td>\n",
       "    </tr>\n",
       "  </tbody>\n",
       "</table>\n",
       "<p>240 rows × 7 columns</p>\n",
       "</div>"
      ],
      "text/plain": [
       "     Retailer       Store  Product_Id                    Product_Name  \\\n",
       "0       Tesco  Manchester           1                Graze BBQ Crunch   \n",
       "1       Tesco  Manchester           1                Graze BBQ Crunch   \n",
       "2       Tesco  Manchester           1                Graze BBQ Crunch   \n",
       "3       Tesco  Manchester           2      Graze Veggie Protein Power   \n",
       "4       Tesco  Manchester           2      Graze Veggie Protein Power   \n",
       "..        ...         ...         ...                             ...   \n",
       "235  Waitrose     Reading           3     Graze Lively Lemon Flapjack   \n",
       "236  Waitrose     Reading           3     Graze Lively Lemon Flapjack   \n",
       "237  Waitrose     Reading           4  Graze Cocoa & Vanilla Flapjack   \n",
       "238  Waitrose     Reading           4  Graze Cocoa & Vanilla Flapjack   \n",
       "239  Waitrose     Reading           4  Graze Cocoa & Vanilla Flapjack   \n",
       "\n",
       "    Week_Commencing Sales_Units  Sales_Value  \n",
       "0        2019-03-05         109        130.8  \n",
       "1        2019-10-05          45         54.0  \n",
       "2        2019-05-17         294        352.8  \n",
       "3        2019-03-05          33         39.6  \n",
       "4        2019-10-05         143        171.6  \n",
       "..              ...         ...          ...  \n",
       "235      2019-10-05          44         52.8  \n",
       "236      2019-05-17           9         10.8  \n",
       "237      2019-03-05          22         26.4  \n",
       "238      2019-10-05          49         58.8  \n",
       "239      2019-05-17          18         21.6  \n",
       "\n",
       "[240 rows x 7 columns]"
      ]
     },
     "execution_count": 600,
     "metadata": {},
     "output_type": "execute_result"
    }
   ],
   "source": [
    "# Let's check the dataframe is combined and have a proper dataframe now.\n",
    "dbready_df"
   ]
  },
  {
   "cell_type": "code",
   "execution_count": 604,
   "metadata": {},
   "outputs": [
    {
     "data": {
      "text/html": [
       "<div>\n",
       "<style scoped>\n",
       "    .dataframe tbody tr th:only-of-type {\n",
       "        vertical-align: middle;\n",
       "    }\n",
       "\n",
       "    .dataframe tbody tr th {\n",
       "        vertical-align: top;\n",
       "    }\n",
       "\n",
       "    .dataframe thead th {\n",
       "        text-align: right;\n",
       "    }\n",
       "</style>\n",
       "<table border=\"1\" class=\"dataframe\">\n",
       "  <thead>\n",
       "    <tr style=\"text-align: right;\">\n",
       "      <th></th>\n",
       "      <th>Retailer</th>\n",
       "      <th>Store</th>\n",
       "      <th>Product_Id</th>\n",
       "      <th>Product_Name</th>\n",
       "      <th>Week_Commencing</th>\n",
       "      <th>Sales_Units</th>\n",
       "      <th>Sales_Value</th>\n",
       "    </tr>\n",
       "  </thead>\n",
       "  <tbody>\n",
       "    <tr>\n",
       "      <th>235</th>\n",
       "      <td>Waitrose</td>\n",
       "      <td>Reading</td>\n",
       "      <td>3</td>\n",
       "      <td>Graze Lively Lemon Flapjack</td>\n",
       "      <td>2019-10-05</td>\n",
       "      <td>44</td>\n",
       "      <td>52.8</td>\n",
       "    </tr>\n",
       "    <tr>\n",
       "      <th>236</th>\n",
       "      <td>Waitrose</td>\n",
       "      <td>Reading</td>\n",
       "      <td>3</td>\n",
       "      <td>Graze Lively Lemon Flapjack</td>\n",
       "      <td>2019-05-17</td>\n",
       "      <td>9</td>\n",
       "      <td>10.8</td>\n",
       "    </tr>\n",
       "    <tr>\n",
       "      <th>237</th>\n",
       "      <td>Waitrose</td>\n",
       "      <td>Reading</td>\n",
       "      <td>4</td>\n",
       "      <td>Graze Cocoa &amp; Vanilla Flapjack</td>\n",
       "      <td>2019-03-05</td>\n",
       "      <td>22</td>\n",
       "      <td>26.4</td>\n",
       "    </tr>\n",
       "    <tr>\n",
       "      <th>238</th>\n",
       "      <td>Waitrose</td>\n",
       "      <td>Reading</td>\n",
       "      <td>4</td>\n",
       "      <td>Graze Cocoa &amp; Vanilla Flapjack</td>\n",
       "      <td>2019-10-05</td>\n",
       "      <td>49</td>\n",
       "      <td>58.8</td>\n",
       "    </tr>\n",
       "    <tr>\n",
       "      <th>239</th>\n",
       "      <td>Waitrose</td>\n",
       "      <td>Reading</td>\n",
       "      <td>4</td>\n",
       "      <td>Graze Cocoa &amp; Vanilla Flapjack</td>\n",
       "      <td>2019-05-17</td>\n",
       "      <td>18</td>\n",
       "      <td>21.6</td>\n",
       "    </tr>\n",
       "  </tbody>\n",
       "</table>\n",
       "</div>"
      ],
      "text/plain": [
       "     Retailer    Store  Product_Id                    Product_Name  \\\n",
       "235  Waitrose  Reading           3     Graze Lively Lemon Flapjack   \n",
       "236  Waitrose  Reading           3     Graze Lively Lemon Flapjack   \n",
       "237  Waitrose  Reading           4  Graze Cocoa & Vanilla Flapjack   \n",
       "238  Waitrose  Reading           4  Graze Cocoa & Vanilla Flapjack   \n",
       "239  Waitrose  Reading           4  Graze Cocoa & Vanilla Flapjack   \n",
       "\n",
       "    Week_Commencing Sales_Units  Sales_Value  \n",
       "235      2019-10-05          44         52.8  \n",
       "236      2019-05-17           9         10.8  \n",
       "237      2019-03-05          22         26.4  \n",
       "238      2019-10-05          49         58.8  \n",
       "239      2019-05-17          18         21.6  "
      ]
     },
     "execution_count": 604,
     "metadata": {},
     "output_type": "execute_result"
    }
   ],
   "source": [
    "# We can verify the last 5 rows of the final dataframe that's ready to be uploaded into the database.\n",
    "dbready_df.tail()"
   ]
  }
 ],
 "metadata": {
  "kernelspec": {
   "display_name": "Python 3",
   "language": "python",
   "name": "python3"
  },
  "language_info": {
   "codemirror_mode": {
    "name": "ipython",
    "version": 3
   },
   "file_extension": ".py",
   "mimetype": "text/x-python",
   "name": "python",
   "nbconvert_exporter": "python",
   "pygments_lexer": "ipython3",
   "version": "3.6.8"
  }
 },
 "nbformat": 4,
 "nbformat_minor": 2
}
